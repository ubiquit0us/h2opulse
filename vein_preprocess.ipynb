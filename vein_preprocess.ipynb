{
  "cells": [
    {
      "cell_type": "code",
      "execution_count": null,
      "metadata": {
        "id": "ct2HfcQjIbjo"
      },
      "outputs": [],
      "source": [
        "import matplotlib.pyplot as plt\n",
        "import numpy as np\n",
        "import cv2\n",
        "import os\n",
        "import pandas as pd\n",
        "import csv"
      ]
    },
    {
      "cell_type": "code",
      "execution_count": null,
      "metadata": {
        "id": "naFIDZ9QIqIn"
      },
      "outputs": [],
      "source": [
        "def applyCLAHE(image_path):\n",
        "    image = cv2.imread(image_path, cv2.IMREAD_GRAYSCALE)\n",
        "    clahe = cv2.createCLAHE(clipLimit=2.0, tileGridSize=(8, 8))\n",
        "    clahe_result = clahe.apply(image)\n",
        "    return clahe_result"
      ]
    },
    {
      "cell_type": "code",
      "execution_count": null,
      "metadata": {
        "id": "1TxF-uk1I8G-"
      },
      "outputs": [],
      "source": [
        "def applyFilter(clahe_image):\n",
        "    kernel_size = (11, 11)\n",
        "    gaussian_result = cv2.GaussianBlur(clahe_image, kernel_size, 0)\n",
        "    return gaussian_result"
      ]
    },
    {
      "cell_type": "code",
      "execution_count": null,
      "metadata": {
        "id": "F5YJjtSdRxJw"
      },
      "outputs": [],
      "source": [
        "def preprocess_image(image_path):\n",
        "    kernel = np.ones((5,5), np.uint8)\n",
        "    \n",
        "    clahe_image = applyCLAHE(image_path)\n",
        "    gaussian_result = applyFilter(clahe_image)\n",
        "    binary_image = cv2.adaptiveThreshold(gaussian_result, 255, cv2.ADAPTIVE_THRESH_GAUSSIAN_C, cv2.THRESH_BINARY_INV, 51, 1)\n",
        "    eroded_image = cv2.erode(binary_image, kernel, iterations=1)\n",
        "    dilated_image = cv2.dilate(eroded_image, kernel, iterations=1)\n",
        "    skeletonized_image = cv2.morphologyEx(dilated_image, cv2.MORPH_OPEN, kernel)\n",
        "    \n",
        "    cv2.imwrite(\"preprocess_image.jpg\", skeletonized_image)"
      ]
    }
  ],
  "metadata": {
    "colab": {
      "provenance": []
    },
    "kernelspec": {
      "display_name": "Python 3",
      "name": "python3"
    },
    "language_info": {
      "name": "python"
    }
  },
  "nbformat": 4,
  "nbformat_minor": 0
}
